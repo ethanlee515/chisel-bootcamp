{
 "cells": [
  {
   "cell_type": "code",
   "execution_count": 1,
   "id": "a71f76cd-d062-4d17-9f58-929ef13dcc92",
   "metadata": {},
   "outputs": [
    {
     "data": {
      "text/plain": [
       "\u001b[36mpath\u001b[39m: \u001b[32mString\u001b[39m = \u001b[32m\"/home/ethanlee/research/chisel-bootcamp/source/load-ivy.sc\"\u001b[39m"
      ]
     },
     "execution_count": 1,
     "metadata": {},
     "output_type": "execute_result"
    }
   ],
   "source": [
    "val path = System.getProperty(\"user.dir\") + \"/source/load-ivy.sc\"\n",
    "interp.load.module(ammonite.ops.Path(java.nio.file.FileSystems.getDefault().getPath(path)))"
   ]
  },
  {
   "cell_type": "code",
   "execution_count": 2,
   "id": "43b96ad6-e4a2-4929-a0c8-e3cc27b5cba3",
   "metadata": {},
   "outputs": [
    {
     "data": {
      "text/plain": [
       "\u001b[32mimport \u001b[39m\u001b[36mchisel3._\n",
       "\u001b[39m\n",
       "\u001b[32mimport \u001b[39m\u001b[36mchisel3.util._\n",
       "\u001b[39m\n",
       "\u001b[32mimport \u001b[39m\u001b[36mchisel3.tester._\n",
       "\u001b[39m\n",
       "\u001b[32mimport \u001b[39m\u001b[36mchisel3.tester.RawTester.test\n",
       "\u001b[39m\n",
       "\u001b[32mimport \u001b[39m\u001b[36mchisel3.experimental._\n",
       "\u001b[39m\n",
       "\u001b[32mimport \u001b[39m\u001b[36mchisel3.internal.firrtl.KnownBinaryPoint\u001b[39m"
      ]
     },
     "execution_count": 2,
     "metadata": {},
     "output_type": "execute_result"
    }
   ],
   "source": [
    "import chisel3._\n",
    "import chisel3.util._\n",
    "import chisel3.tester._\n",
    "import chisel3.tester.RawTester.test\n",
    "import chisel3.experimental._\n",
    "import chisel3.internal.firrtl.KnownBinaryPoint"
   ]
  },
  {
   "cell_type": "code",
   "execution_count": 3,
   "id": "55e53f1f-3dd6-4f61-bea2-5f3e821bcf2e",
   "metadata": {},
   "outputs": [
    {
     "data": {
      "text/plain": [
       "defined \u001b[32mclass\u001b[39m \u001b[36mBundle1\u001b[39m\n",
       "defined \u001b[32mclass\u001b[39m \u001b[36mBundle2\u001b[39m"
      ]
     },
     "execution_count": 3,
     "metadata": {},
     "output_type": "execute_result"
    }
   ],
   "source": [
    "class Bundle1 extends Bundle {\n",
    "  val a = UInt(8.W)\n",
    "}\n",
    "class Bundle2 extends Bundle1 {\n",
    "  val b = UInt(8.W)\n",
    "}"
   ]
  },
  {
   "cell_type": "code",
   "execution_count": 4,
   "id": "d3e43677-84b6-432c-a030-4ccbb76847b4",
   "metadata": {},
   "outputs": [
    {
     "data": {
      "text/plain": [
       "defined \u001b[32mclass\u001b[39m \u001b[36mBad\u001b[39m"
      ]
     },
     "execution_count": 4,
     "metadata": {},
     "output_type": "execute_result"
    }
   ],
   "source": [
    "class Bad extends Module {\n",
    "  val io = IO(new Bundle {\n",
    "    val bundleIn = Input(new Bundle2)\n",
    "    val bundleOut = Output(new Bundle2)\n",
    "  })\n",
    "   io.bundleOut := io.bundleIn\n",
    "}"
   ]
  },
  {
   "cell_type": "code",
   "execution_count": 5,
   "id": "dde3deeb-b80f-4220-86ca-c8ef553e84d9",
   "metadata": {},
   "outputs": [
    {
     "name": "stdout",
     "output_type": "stream",
     "text": [
      "Elaborating design...\n",
      "[\u001b[31merror\u001b[0m] \tat ... ()\n",
      "[\u001b[31merror\u001b[0m] \tat ammonite.$sess.cmd3$Helper$Bad$$anon$1.<init>(cmd3.sc:3)\n",
      "[\u001b[31merror\u001b[0m] \tat ammonite.$sess.cmd3$Helper$Bad.<init>(cmd3.sc:2)\n",
      "[\u001b[31merror\u001b[0m] \tat ammonite.$sess.cmd4$Helper.$anonfun$res4$1(cmd4.sc:1)\n",
      "[\u001b[31merror\u001b[0m] \tat ... ()\n",
      "[\u001b[31merror\u001b[0m] \tat ... (Stack trace trimmed to user code only. Rerun with --full-stacktrace to see the full stack trace)\n"
     ]
    },
    {
     "ename": "",
     "evalue": "",
     "output_type": "error",
     "traceback": [
      "\u001b[31mscala.MatchError: ChiselExecutionFailure(Failed to elaborate Chisel circuit) (of class chisel3.ChiselExecutionFailure)\u001b[39m\n  ammonite.$file.dummy.source.load$minusivy_2$Helper.getVerilog(\u001b[32mMain.sc\u001b[39m:\u001b[32m26\u001b[39m)\n  ammonite.$sess.cmd4$Helper.<init>(\u001b[32mcmd4.sc\u001b[39m:\u001b[32m1\u001b[39m)\n  ammonite.$sess.cmd4$.<init>(\u001b[32mcmd4.sc\u001b[39m:\u001b[32m7\u001b[39m)\n  ammonite.$sess.cmd4$.<clinit>(\u001b[32mcmd4.sc\u001b[39m:\u001b[32m-1\u001b[39m)"
     ]
    }
   ],
   "source": [
    "println(getVerilog(new Bad))"
   ]
  }
 ],
 "metadata": {
  "kernelspec": {
   "display_name": "Scala",
   "language": "scala",
   "name": "scala"
  },
  "language_info": {
   "codemirror_mode": "text/x-scala",
   "file_extension": ".scala",
   "mimetype": "text/x-scala",
   "name": "scala",
   "nbconvert_exporter": "script",
   "version": "2.12.10"
  }
 },
 "nbformat": 4,
 "nbformat_minor": 5
}
